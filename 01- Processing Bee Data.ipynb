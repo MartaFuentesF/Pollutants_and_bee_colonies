{
 "cells": [
  {
   "cell_type": "markdown",
   "id": "be7a87a4-557c-459c-85d7-53a492edd815",
   "metadata": {},
   "source": [
    "# Importing and Processing Bee Data into Pandas DataFrames and CSV Files\n",
    "\n",
    "Bee-related data is sourced from various datasets stored in both .xlsx and .csv formats. Some .xlsx files contain multiple sheets, each representing data for a specific year.\n",
    "\n",
    "This notebook aims to import and process each data file, saving the processed data as .csv files. Subsequently, the saved files will undergo cleaning and exploratory data analysis (EDA)."
   ]
  },
  {
   "cell_type": "code",
   "execution_count": 1,
   "id": "bce75371-8bce-4cb1-9dc7-535833a6a1b4",
   "metadata": {},
   "outputs": [],
   "source": [
    "# imports\n",
    "import pandas as pd\n",
    "import os\n",
    "import pandas as pd"
   ]
  },
  {
   "cell_type": "markdown",
   "id": "a3aaa0c9-fa97-46ec-82de-b41fc5c9393b",
   "metadata": {},
   "source": [
    "### Creating a directory using os library to store processed data frames\n",
    "\n",
    "*citation:* [Using `os` to make directories]('https://www.w3schools.com/python/ref_os_makedirs.asp')"
   ]
  },
  {
   "cell_type": "code",
   "execution_count": 2,
   "id": "a114e67f-d53b-421b-96cc-7f3b37c29ff5",
   "metadata": {},
   "outputs": [],
   "source": [
    "directory = '../Project_4/Data_Bees/processed_dfs/'\n",
    "os.makedirs(directory, exist_ok = True)"
   ]
  },
  {
   "cell_type": "markdown",
   "id": "d1d6ae5b-e6e2-4152-96ca-636db3da6052",
   "metadata": {},
   "source": [
    "---\n",
    "## 1 ) Function to import and process data from all sheets/years in `BIP Bee Colony Loss Clean.xlsx`\n",
    "*citation:* [Looking up sheet names in .xlsx notebook]('https://stackoverflow.com/questions/17977540/pandas-looking-up-the-list-of-sheets-in-an-excel-file')"
   ]
  },
  {
   "cell_type": "code",
   "execution_count": 3,
   "id": "e5937eee-ad90-4e34-b86c-3ef13806fcbc",
   "metadata": {},
   "outputs": [],
   "source": [
    "# Creating the function\n",
    "def process_data(file): # year data is in the format 2007-08\n",
    "    \n",
    "    file = str(file) \n",
    "    dfs = [] #store each data frame, for concatenation\n",
    "\n",
    "    file_for_import = f'../Project_4/Data_Bees/{file}.xlsx'\n",
    "    sheet_names = pd.ExcelFile(file_for_import).sheet_names #see citation\n",
    "    \n",
    "    for sheet_name in sheet_names:\n",
    "        df = pd.read_excel(file_for_import, sheet_name = sheet_name)\n",
    "        df['year'] = str(sheet_name[0:4]) #make a column for the year\n",
    "        dfs.append(df) #append df to the list for concatenation\n",
    "\n",
    "    #concatenate\n",
    "    df_combo = pd.concat(dfs, ignore_index = True)\n",
    "\n",
    "    return df_combo\n",
    "\n",
    "# saving the output df as a variable\n",
    "colony_loss_df = process_data('BIP Bee Colony Loss Clean')\n",
    "\n",
    "# saving to .csv\n",
    "colony_loss_df.to_csv(directory + 'bip_colony_loss_processed.csv')"
   ]
  },
  {
   "cell_type": "markdown",
   "id": "27dc889a-5011-4068-98ef-445c2ddb576c",
   "metadata": {},
   "source": [
    "---\n",
    "### Looking at colony_loss_df information\n",
    "\n",
    "**Observations:** \n",
    "- There is data for 12 years\n",
    "- The data for 2008 and 2007 is missing about half of the states.\n",
    "- The data spans 2007 - 2017\n",
    "- The data set was pre-cleaned by the source"
   ]
  },
  {
   "cell_type": "code",
   "execution_count": 4,
   "id": "103268bb-263d-489c-baea-fea2107fde9e",
   "metadata": {},
   "outputs": [
    {
     "data": {
      "text/html": [
       "<div>\n",
       "<style scoped>\n",
       "    .dataframe tbody tr th:only-of-type {\n",
       "        vertical-align: middle;\n",
       "    }\n",
       "\n",
       "    .dataframe tbody tr th {\n",
       "        vertical-align: top;\n",
       "    }\n",
       "\n",
       "    .dataframe thead th {\n",
       "        text-align: right;\n",
       "    }\n",
       "</style>\n",
       "<table border=\"1\" class=\"dataframe\">\n",
       "  <thead>\n",
       "    <tr style=\"text-align: right;\">\n",
       "      <th></th>\n",
       "      <th>State</th>\n",
       "      <th>Total Winter All Loss</th>\n",
       "      <th>Beekeepers</th>\n",
       "      <th>Beekeepers Exclusive to State</th>\n",
       "      <th>Colonies</th>\n",
       "      <th>Colonies Exclusive to State</th>\n",
       "      <th>year</th>\n",
       "    </tr>\n",
       "  </thead>\n",
       "  <tbody>\n",
       "    <tr>\n",
       "      <th>0</th>\n",
       "      <td>Maryland</td>\n",
       "      <td>7.6%</td>\n",
       "      <td>14</td>\n",
       "      <td>100%</td>\n",
       "      <td>4013</td>\n",
       "      <td>100%</td>\n",
       "      <td>2007</td>\n",
       "    </tr>\n",
       "    <tr>\n",
       "      <th>1</th>\n",
       "      <td>Washington</td>\n",
       "      <td>13.7%</td>\n",
       "      <td>5</td>\n",
       "      <td>0%</td>\n",
       "      <td>21870</td>\n",
       "      <td>0%</td>\n",
       "      <td>2007</td>\n",
       "    </tr>\n",
       "    <tr>\n",
       "      <th>2</th>\n",
       "      <td>New Jersey</td>\n",
       "      <td>15.1%</td>\n",
       "      <td>15</td>\n",
       "      <td>80%</td>\n",
       "      <td>22622</td>\n",
       "      <td>12%</td>\n",
       "      <td>2007</td>\n",
       "    </tr>\n",
       "    <tr>\n",
       "      <th>3</th>\n",
       "      <td>Arkansas</td>\n",
       "      <td>17.4%</td>\n",
       "      <td>20</td>\n",
       "      <td>100%</td>\n",
       "      <td>16955</td>\n",
       "      <td>100%</td>\n",
       "      <td>2007</td>\n",
       "    </tr>\n",
       "    <tr>\n",
       "      <th>4</th>\n",
       "      <td>Maine</td>\n",
       "      <td>18%</td>\n",
       "      <td>6</td>\n",
       "      <td>16.7%</td>\n",
       "      <td>45937</td>\n",
       "      <td>0.1%</td>\n",
       "      <td>2007</td>\n",
       "    </tr>\n",
       "  </tbody>\n",
       "</table>\n",
       "</div>"
      ],
      "text/plain": [
       "        State Total Winter All Loss  Beekeepers Beekeepers Exclusive to State  \\\n",
       "0    Maryland                  7.6%          14                          100%   \n",
       "1  Washington                 13.7%           5                            0%   \n",
       "2  New Jersey                 15.1%          15                           80%   \n",
       "3    Arkansas                 17.4%          20                          100%   \n",
       "4       Maine                   18%           6                         16.7%   \n",
       "\n",
       "   Colonies Colonies Exclusive to State  year  \n",
       "0      4013                        100%  2007  \n",
       "1     21870                          0%  2007  \n",
       "2     22622                         12%  2007  \n",
       "3     16955                        100%  2007  \n",
       "4     45937                        0.1%  2007  "
      ]
     },
     "execution_count": 4,
     "metadata": {},
     "output_type": "execute_result"
    }
   ],
   "source": [
    "colony_loss_df.head()"
   ]
  },
  {
   "cell_type": "code",
   "execution_count": 5,
   "id": "7147d613-dcc5-46ac-810e-c470fa31d938",
   "metadata": {},
   "outputs": [
    {
     "data": {
      "text/plain": [
       "count      557\n",
       "unique      12\n",
       "top       2013\n",
       "freq        52\n",
       "Name: year, dtype: object"
      ]
     },
     "execution_count": 5,
     "metadata": {},
     "output_type": "execute_result"
    }
   ],
   "source": [
    "colony_loss_df['year'].describe()"
   ]
  },
  {
   "cell_type": "code",
   "execution_count": 6,
   "id": "1a59484e-9dc1-430c-bcc5-58eaa856ccf3",
   "metadata": {},
   "outputs": [
    {
     "data": {
      "text/plain": [
       "12"
      ]
     },
     "execution_count": 6,
     "metadata": {},
     "output_type": "execute_result"
    }
   ],
   "source": [
    "colony_loss_df['year'].sort_values().nunique()"
   ]
  },
  {
   "cell_type": "code",
   "execution_count": 7,
   "id": "522ed67a-efec-4c82-aea4-105148938082",
   "metadata": {},
   "outputs": [
    {
     "data": {
      "text/plain": [
       "year\n",
       "2013    52\n",
       "2015    52\n",
       "2011    51\n",
       "2012    51\n",
       "2014    51\n",
       "2016    51\n",
       "2010    50\n",
       "2017    50\n",
       "2009    48\n",
       "2018    48\n",
       "2007    27\n",
       "2008    26\n",
       "Name: count, dtype: int64"
      ]
     },
     "execution_count": 7,
     "metadata": {},
     "output_type": "execute_result"
    }
   ],
   "source": [
    "colony_loss_df['year'].sort_values().value_counts()"
   ]
  },
  {
   "cell_type": "markdown",
   "id": "5ad5b51d-ef72-4a82-9c2f-fc73bb0c6924",
   "metadata": {},
   "source": [
    "---\n",
    "## 2) Import and process data from `Bee Colony Census Data by State.csv`"
   ]
  },
  {
   "cell_type": "code",
   "execution_count": 8,
   "id": "182d6965-22b9-4c56-bf9c-de0cbc9c9874",
   "metadata": {},
   "outputs": [],
   "source": [
    "df_2 = pd.read_csv('./Data_Bees/Bee Colony Census data by State.csv')"
   ]
  },
  {
   "cell_type": "code",
   "execution_count": 9,
   "id": "4fdace8e-479f-49a0-8862-8f1d5afa3da9",
   "metadata": {},
   "outputs": [
    {
     "data": {
      "text/html": [
       "<div>\n",
       "<style scoped>\n",
       "    .dataframe tbody tr th:only-of-type {\n",
       "        vertical-align: middle;\n",
       "    }\n",
       "\n",
       "    .dataframe tbody tr th {\n",
       "        vertical-align: top;\n",
       "    }\n",
       "\n",
       "    .dataframe thead th {\n",
       "        text-align: right;\n",
       "    }\n",
       "</style>\n",
       "<table border=\"1\" class=\"dataframe\">\n",
       "  <thead>\n",
       "    <tr style=\"text-align: right;\">\n",
       "      <th></th>\n",
       "      <th>Year</th>\n",
       "      <th>Week Ending</th>\n",
       "      <th>State ANSI</th>\n",
       "      <th>Ag District</th>\n",
       "      <th>Ag District Code</th>\n",
       "      <th>County</th>\n",
       "      <th>County ANSI</th>\n",
       "      <th>Zip Code</th>\n",
       "      <th>Region</th>\n",
       "      <th>watershed_code</th>\n",
       "      <th>Watershed</th>\n",
       "      <th>CV (%)</th>\n",
       "    </tr>\n",
       "  </thead>\n",
       "  <tbody>\n",
       "    <tr>\n",
       "      <th>count</th>\n",
       "      <td>200.000000</td>\n",
       "      <td>0.0</td>\n",
       "      <td>200.000000</td>\n",
       "      <td>0.0</td>\n",
       "      <td>0.0</td>\n",
       "      <td>0.0</td>\n",
       "      <td>0.0</td>\n",
       "      <td>0.0</td>\n",
       "      <td>0.0</td>\n",
       "      <td>200.0</td>\n",
       "      <td>0.0</td>\n",
       "      <td>50.000000</td>\n",
       "    </tr>\n",
       "    <tr>\n",
       "      <th>mean</th>\n",
       "      <td>2004.500000</td>\n",
       "      <td>NaN</td>\n",
       "      <td>29.320000</td>\n",
       "      <td>NaN</td>\n",
       "      <td>NaN</td>\n",
       "      <td>NaN</td>\n",
       "      <td>NaN</td>\n",
       "      <td>NaN</td>\n",
       "      <td>NaN</td>\n",
       "      <td>0.0</td>\n",
       "      <td>NaN</td>\n",
       "      <td>21.090000</td>\n",
       "    </tr>\n",
       "    <tr>\n",
       "      <th>std</th>\n",
       "      <td>5.604198</td>\n",
       "      <td>NaN</td>\n",
       "      <td>15.662829</td>\n",
       "      <td>NaN</td>\n",
       "      <td>NaN</td>\n",
       "      <td>NaN</td>\n",
       "      <td>NaN</td>\n",
       "      <td>NaN</td>\n",
       "      <td>NaN</td>\n",
       "      <td>0.0</td>\n",
       "      <td>NaN</td>\n",
       "      <td>17.735198</td>\n",
       "    </tr>\n",
       "    <tr>\n",
       "      <th>min</th>\n",
       "      <td>1997.000000</td>\n",
       "      <td>NaN</td>\n",
       "      <td>1.000000</td>\n",
       "      <td>NaN</td>\n",
       "      <td>NaN</td>\n",
       "      <td>NaN</td>\n",
       "      <td>NaN</td>\n",
       "      <td>NaN</td>\n",
       "      <td>NaN</td>\n",
       "      <td>0.0</td>\n",
       "      <td>NaN</td>\n",
       "      <td>2.700000</td>\n",
       "    </tr>\n",
       "    <tr>\n",
       "      <th>25%</th>\n",
       "      <td>2000.750000</td>\n",
       "      <td>NaN</td>\n",
       "      <td>17.000000</td>\n",
       "      <td>NaN</td>\n",
       "      <td>NaN</td>\n",
       "      <td>NaN</td>\n",
       "      <td>NaN</td>\n",
       "      <td>NaN</td>\n",
       "      <td>NaN</td>\n",
       "      <td>0.0</td>\n",
       "      <td>NaN</td>\n",
       "      <td>6.775000</td>\n",
       "    </tr>\n",
       "    <tr>\n",
       "      <th>50%</th>\n",
       "      <td>2004.500000</td>\n",
       "      <td>NaN</td>\n",
       "      <td>29.500000</td>\n",
       "      <td>NaN</td>\n",
       "      <td>NaN</td>\n",
       "      <td>NaN</td>\n",
       "      <td>NaN</td>\n",
       "      <td>NaN</td>\n",
       "      <td>NaN</td>\n",
       "      <td>0.0</td>\n",
       "      <td>NaN</td>\n",
       "      <td>14.150000</td>\n",
       "    </tr>\n",
       "    <tr>\n",
       "      <th>75%</th>\n",
       "      <td>2008.250000</td>\n",
       "      <td>NaN</td>\n",
       "      <td>42.000000</td>\n",
       "      <td>NaN</td>\n",
       "      <td>NaN</td>\n",
       "      <td>NaN</td>\n",
       "      <td>NaN</td>\n",
       "      <td>NaN</td>\n",
       "      <td>NaN</td>\n",
       "      <td>0.0</td>\n",
       "      <td>NaN</td>\n",
       "      <td>33.650000</td>\n",
       "    </tr>\n",
       "    <tr>\n",
       "      <th>max</th>\n",
       "      <td>2012.000000</td>\n",
       "      <td>NaN</td>\n",
       "      <td>56.000000</td>\n",
       "      <td>NaN</td>\n",
       "      <td>NaN</td>\n",
       "      <td>NaN</td>\n",
       "      <td>NaN</td>\n",
       "      <td>NaN</td>\n",
       "      <td>NaN</td>\n",
       "      <td>0.0</td>\n",
       "      <td>NaN</td>\n",
       "      <td>74.900000</td>\n",
       "    </tr>\n",
       "  </tbody>\n",
       "</table>\n",
       "</div>"
      ],
      "text/plain": [
       "              Year  Week Ending  State ANSI  Ag District  Ag District Code  \\\n",
       "count   200.000000          0.0  200.000000          0.0               0.0   \n",
       "mean   2004.500000          NaN   29.320000          NaN               NaN   \n",
       "std       5.604198          NaN   15.662829          NaN               NaN   \n",
       "min    1997.000000          NaN    1.000000          NaN               NaN   \n",
       "25%    2000.750000          NaN   17.000000          NaN               NaN   \n",
       "50%    2004.500000          NaN   29.500000          NaN               NaN   \n",
       "75%    2008.250000          NaN   42.000000          NaN               NaN   \n",
       "max    2012.000000          NaN   56.000000          NaN               NaN   \n",
       "\n",
       "       County  County ANSI  Zip Code  Region  watershed_code  Watershed  \\\n",
       "count     0.0          0.0       0.0     0.0           200.0        0.0   \n",
       "mean      NaN          NaN       NaN     NaN             0.0        NaN   \n",
       "std       NaN          NaN       NaN     NaN             0.0        NaN   \n",
       "min       NaN          NaN       NaN     NaN             0.0        NaN   \n",
       "25%       NaN          NaN       NaN     NaN             0.0        NaN   \n",
       "50%       NaN          NaN       NaN     NaN             0.0        NaN   \n",
       "75%       NaN          NaN       NaN     NaN             0.0        NaN   \n",
       "max       NaN          NaN       NaN     NaN             0.0        NaN   \n",
       "\n",
       "          CV (%)  \n",
       "count  50.000000  \n",
       "mean   21.090000  \n",
       "std    17.735198  \n",
       "min     2.700000  \n",
       "25%     6.775000  \n",
       "50%    14.150000  \n",
       "75%    33.650000  \n",
       "max    74.900000  "
      ]
     },
     "execution_count": 9,
     "metadata": {},
     "output_type": "execute_result"
    }
   ],
   "source": [
    "df_2.describe()"
   ]
  },
  {
   "cell_type": "code",
   "execution_count": 10,
   "id": "2c503723-db80-404c-be7f-146923e92e8d",
   "metadata": {},
   "outputs": [
    {
     "name": "stdout",
     "output_type": "stream",
     "text": [
      "<class 'pandas.core.frame.DataFrame'>\n",
      "RangeIndex: 200 entries, 0 to 199\n",
      "Data columns (total 21 columns):\n",
      " #   Column            Non-Null Count  Dtype  \n",
      "---  ------            --------------  -----  \n",
      " 0   Program           200 non-null    object \n",
      " 1   Year              200 non-null    int64  \n",
      " 2   Period            200 non-null    object \n",
      " 3   Week Ending       0 non-null      float64\n",
      " 4   Geo Level         200 non-null    object \n",
      " 5   State             200 non-null    object \n",
      " 6   State ANSI        200 non-null    int64  \n",
      " 7   Ag District       0 non-null      float64\n",
      " 8   Ag District Code  0 non-null      float64\n",
      " 9   County            0 non-null      float64\n",
      " 10  County ANSI       0 non-null      float64\n",
      " 11  Zip Code          0 non-null      float64\n",
      " 12  Region            0 non-null      float64\n",
      " 13  watershed_code    200 non-null    int64  \n",
      " 14  Watershed         0 non-null      float64\n",
      " 15  Commodity         200 non-null    object \n",
      " 16  Data Item         200 non-null    object \n",
      " 17  Domain            200 non-null    object \n",
      " 18  Domain Category   200 non-null    object \n",
      " 19  Value             200 non-null    object \n",
      " 20  CV (%)            50 non-null     float64\n",
      "dtypes: float64(9), int64(3), object(9)\n",
      "memory usage: 32.9+ KB\n"
     ]
    }
   ],
   "source": [
    "df_2.info()"
   ]
  },
  {
   "cell_type": "code",
   "execution_count": 11,
   "id": "566a7222-aa10-4fdb-bd5f-ea69ebd99670",
   "metadata": {},
   "outputs": [
    {
     "data": {
      "text/plain": [
       "Program               0\n",
       "Year                  0\n",
       "Period                0\n",
       "Week Ending         200\n",
       "Geo Level             0\n",
       "State                 0\n",
       "State ANSI            0\n",
       "Ag District         200\n",
       "Ag District Code    200\n",
       "County              200\n",
       "County ANSI         200\n",
       "Zip Code            200\n",
       "Region              200\n",
       "watershed_code        0\n",
       "Watershed           200\n",
       "Commodity             0\n",
       "Data Item             0\n",
       "Domain                0\n",
       "Domain Category       0\n",
       "Value                 0\n",
       "CV (%)              150\n",
       "dtype: int64"
      ]
     },
     "execution_count": 11,
     "metadata": {},
     "output_type": "execute_result"
    }
   ],
   "source": [
    "df_2.isna().sum()"
   ]
  },
  {
   "cell_type": "markdown",
   "id": "27188127-bcab-4979-b658-0c6dc6784464",
   "metadata": {},
   "source": [
    "---\n",
    "#### Dropping Columns\n",
    "\n",
    "There are several columns we won't use in our analysis. Additionally, several columns are mosty blank.\n",
    "\n",
    "* blank columns = 'Week Ending', 'Ag District', 'Ag District Code', 'County', 'County ANSI', 'Zip Code', 'Region', 'Watershed'\n",
    "\n",
    "* columns with all the same value:\n",
    "    -'Domain Category' = 'NOT SPECIFIED'\n",
    "    -'Domain' = 'TOTAL'\n",
    "    -'Data Item' = 'HONEY, BEE COLONY'\n",
    "    -'Commodity' = 'HONEY'\n",
    "    -'watershed_code' =0\n",
    "    -'Program' = 'Census'\n",
    "    -'Period' = 'END OF DEC' \n",
    "\n",
    "* unusable column  =  CV(%) is missing 150 values out of 200. CV(%) is the Coefficient of variation. Available for the 2012 Census of Agriculture only. "
   ]
  },
  {
   "cell_type": "code",
   "execution_count": 12,
   "id": "f92f452a-215d-4028-bae8-efa6d8ac3ef6",
   "metadata": {},
   "outputs": [],
   "source": [
    "df_2.drop(columns = ['Week Ending', 'Ag District', 'Ag District Code', 'County', 'County ANSI', 'Zip Code', 'Region', 'Domain Category', 'Domain', 'Data Item', 'Commodity', 'watershed_code', 'State ANSI', 'Geo Level', 'Period', 'Program', 'Watershed', 'CV (%)'], inplace = True)"
   ]
  },
  {
   "cell_type": "code",
   "execution_count": 13,
   "id": "fe6912d9-df24-457e-8d57-ae39c1aedc74",
   "metadata": {},
   "outputs": [
    {
     "data": {
      "text/html": [
       "<div>\n",
       "<style scoped>\n",
       "    .dataframe tbody tr th:only-of-type {\n",
       "        vertical-align: middle;\n",
       "    }\n",
       "\n",
       "    .dataframe tbody tr th {\n",
       "        vertical-align: top;\n",
       "    }\n",
       "\n",
       "    .dataframe thead th {\n",
       "        text-align: right;\n",
       "    }\n",
       "</style>\n",
       "<table border=\"1\" class=\"dataframe\">\n",
       "  <thead>\n",
       "    <tr style=\"text-align: right;\">\n",
       "      <th></th>\n",
       "      <th>Year</th>\n",
       "      <th>State</th>\n",
       "      <th>Value</th>\n",
       "    </tr>\n",
       "  </thead>\n",
       "  <tbody>\n",
       "    <tr>\n",
       "      <th>0</th>\n",
       "      <td>2012</td>\n",
       "      <td>ALABAMA</td>\n",
       "      <td>11,628</td>\n",
       "    </tr>\n",
       "    <tr>\n",
       "      <th>1</th>\n",
       "      <td>2012</td>\n",
       "      <td>ALASKA</td>\n",
       "      <td>546</td>\n",
       "    </tr>\n",
       "    <tr>\n",
       "      <th>2</th>\n",
       "      <td>2012</td>\n",
       "      <td>ARIZONA</td>\n",
       "      <td>58,461</td>\n",
       "    </tr>\n",
       "    <tr>\n",
       "      <th>3</th>\n",
       "      <td>2012</td>\n",
       "      <td>ARKANSAS</td>\n",
       "      <td>23,259</td>\n",
       "    </tr>\n",
       "    <tr>\n",
       "      <th>4</th>\n",
       "      <td>2012</td>\n",
       "      <td>CALIFORNIA</td>\n",
       "      <td>945,589</td>\n",
       "    </tr>\n",
       "  </tbody>\n",
       "</table>\n",
       "</div>"
      ],
      "text/plain": [
       "   Year       State    Value\n",
       "0  2012     ALABAMA   11,628\n",
       "1  2012      ALASKA      546\n",
       "2  2012     ARIZONA   58,461\n",
       "3  2012    ARKANSAS   23,259\n",
       "4  2012  CALIFORNIA  945,589"
      ]
     },
     "execution_count": 13,
     "metadata": {},
     "output_type": "execute_result"
    }
   ],
   "source": [
    "df_2.head()"
   ]
  },
  {
   "cell_type": "markdown",
   "id": "3b22edbe-840a-4768-96d1-1210870e084e",
   "metadata": {},
   "source": [
    "**OBSERVATION:** There is data for 4 years only"
   ]
  },
  {
   "cell_type": "code",
   "execution_count": 14,
   "id": "e08e90cd-7011-4314-be47-4652f8b41b47",
   "metadata": {},
   "outputs": [],
   "source": [
    "# The 'value' column in this dataset will be explicitly defined for future merging or concatenation with other dataframes.\n",
    "df_2['census_value'] = df_2['Value']"
   ]
  },
  {
   "cell_type": "code",
   "execution_count": 15,
   "id": "fa9772be-8c87-4953-bebb-333b83afb5c0",
   "metadata": {},
   "outputs": [],
   "source": [
    "# saving to .csv\n",
    "df_2.to_csv(directory + 'state_census_processed.csv')"
   ]
  },
  {
   "cell_type": "code",
   "execution_count": null,
   "id": "c8812c4e-d01f-4cda-a4cb-1847fa485e1e",
   "metadata": {},
   "outputs": [],
   "source": []
  },
  {
   "cell_type": "code",
   "execution_count": null,
   "id": "b63b5125-4c3c-45ea-815b-b52c865d127c",
   "metadata": {},
   "outputs": [],
   "source": []
  }
 ],
 "metadata": {
  "kernelspec": {
   "display_name": "Python 3 (ipykernel)",
   "language": "python",
   "name": "python3"
  },
  "language_info": {
   "codemirror_mode": {
    "name": "ipython",
    "version": 3
   },
   "file_extension": ".py",
   "mimetype": "text/x-python",
   "name": "python",
   "nbconvert_exporter": "python",
   "pygments_lexer": "ipython3",
   "version": "3.11.7"
  }
 },
 "nbformat": 4,
 "nbformat_minor": 5
}
