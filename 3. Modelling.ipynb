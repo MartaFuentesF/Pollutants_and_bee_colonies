{
 "cells": [
  {
   "cell_type": "markdown",
   "id": "ee0aec50-8c55-4342-be6d-45de480eb8ce",
   "metadata": {},
   "source": [
    "# Modelling with Multiple Linear Regression\n",
    "\n",
    "In this final notebook we look to answer 2 key questions set out in our problem statement - \n",
    "1. What is the extent of impact that each pollutant gas has on bee colony numbers?\n",
    "2. Which pollutant gases should be prioritised for removal in order to maximise bee colony numbers?\n",
    "\n",
    "We answer these two questions inferentially through the coefficients derived from a multiple linear regression model, and, measure the performance of our model through metrics 'root mean squared error' (measuring the average difference between values predicted by our model and the actual values) and R-squared score (telling us the proportion of the changes in our target variable bee colony numbers that can be accounted for by our model). \n",
    "\n",
    "---"
   ]
  },
  {
   "cell_type": "markdown",
   "id": "d64d56fb-5c45-4137-8c1f-2c83bb62164a",
   "metadata": {},
   "source": [
    "# Imports "
   ]
  },
  {
   "cell_type": "code",
   "execution_count": 2,
   "id": "50b94422-96bf-4e81-b7ed-5b21885f8437",
   "metadata": {},
   "outputs": [],
   "source": [
    "import pandas as pd \n",
    "import numpy as np\n",
    "import matplotlib.pyplot as plt\n",
    "import seaborn as sns\n",
    "\n",
    "from sklearn.linear_model import LinearRegression\n",
    "from sklearn.model_selection import train_test_split, cross_val_score, GridSearchCV\n",
    "from sklearn import metrics\n",
    "from sklearn.metrics import  r2_score, mean_squared_error#, root_mean_squared_error \n",
    "from sklearn.pipeline import Pipeline\n",
    "from sklearn.ensemble import RandomForestRegressor\n",
    "from sklearn.preprocessing import StandardScaler\n",
    "\n",
    "from datetime import datetime\n"
   ]
  },
  {
   "cell_type": "code",
   "execution_count": 3,
   "id": "f514c070-e64e-4fa0-b1e6-ae525baaa054",
   "metadata": {},
   "outputs": [],
   "source": [
    "data = pd.read_csv('./data/modelling_dataframe.csv')\n",
    "\n",
    "# Defining pollutants\n",
    "pollutants = ['Days CO', 'Days NO2', 'Days Ozone', 'Days PM2.5', 'Days PM10']"
   ]
  },
  {
   "cell_type": "code",
   "execution_count": 4,
   "id": "b3c12215-4076-460b-8655-ddc4cc4972b5",
   "metadata": {},
   "outputs": [
    {
     "ename": "NameError",
     "evalue": "name 'root_mean_squared_error' is not defined",
     "output_type": "error",
     "traceback": [
      "\u001b[0;31m---------------------------------------------------------------------------\u001b[0m",
      "\u001b[0;31mNameError\u001b[0m                                 Traceback (most recent call last)",
      "Cell \u001b[0;32mIn[4], line 16\u001b[0m\n\u001b[1;32m     13\u001b[0m y_pred \u001b[38;5;241m=\u001b[39m model\u001b[38;5;241m.\u001b[39mpredict(X_test)\n\u001b[1;32m     15\u001b[0m \u001b[38;5;66;03m# Model evaluation\u001b[39;00m\n\u001b[0;32m---> 16\u001b[0m rmse \u001b[38;5;241m=\u001b[39m root_mean_squared_error(y_test, y_pred)\n\u001b[1;32m     17\u001b[0m r2 \u001b[38;5;241m=\u001b[39m r2_score(y_test, y_pred)\n\u001b[1;32m     18\u001b[0m \u001b[38;5;28mprint\u001b[39m(\u001b[38;5;124mf\u001b[39m\u001b[38;5;124m'\u001b[39m\u001b[38;5;124mRoot Mean Squared Error: \u001b[39m\u001b[38;5;132;01m{\u001b[39;00mrmse\u001b[38;5;132;01m}\u001b[39;00m\u001b[38;5;124m'\u001b[39m)\n",
      "\u001b[0;31mNameError\u001b[0m: name 'root_mean_squared_error' is not defined"
     ]
    }
   ],
   "source": [
    "# Features and target variable\n",
    "X = data[pollutants]\n",
    "y = data['Bee Colonies']\n",
    "\n",
    "# Train-test split\n",
    "X_train, X_test, y_train, y_test = train_test_split(X, y, test_size=0.2, random_state=42)\n",
    "\n",
    "# Linear regression model\n",
    "model = LinearRegression()\n",
    "model.fit(X_train, y_train)\n",
    "\n",
    "# Predictions\n",
    "y_pred = model.predict(X_test)\n",
    "\n",
    "# Model evaluation\n",
    "rmse = root_mean_squared_error(y_test, y_pred)\n",
    "r2 = r2_score(y_test, y_pred)\n",
    "print(f'Root Mean Squared Error: {rmse}')\n",
    "print(f'R-squared: {r2}')\n",
    "\n",
    "# Making inferences from the coefficients\n",
    "coefficients = coefficients.sort_values(by='Coefficient', ascending=False)\n",
    "print(\"Pollutants impact on Bee Colonies (sorted by impact):\")\n",
    "print(coefficients)\n",
    "\n",
    "# Making inferences from the coefficients\n",
    "print(\"Based on the model, the pollutants affecting bee colony poplutions the most (in order of impact)are:\")\n",
    "print(coefficients['Pollutant'].iloc[:3].values)"
   ]
  },
  {
   "cell_type": "markdown",
   "id": "e64b09ea-31ab-44c5-b3e0-296a1f217892",
   "metadata": {},
   "source": [
    "---\n",
    "Whilst the R-squared score is extremely low (our model explaining only 0.17% of the changes in bee populations), we must take into account that this project only investigates Air Quality as a factor contributing towards bee populations, [disregarding other larger factors that may affect bee populations to a bigger extent](https://www.europarl.europa.eu/topics/en/article/20191129STO67758/what-s-behind-the-decline-in-bees-and-other-pollinators-infographic). This model also works off of aggregate measures for the entire US accross the period of time for which we have recorded data and so we focus on making inferences from the coefficients above all else in order to address our problem statement. \n",
    "\n",
    "Based on the model, the pollutants affecting bee colony poplutions the most (in order of impact)are 'Days PM2.5', 'Days Ozone', 'Days PM10'."
   ]
  },
  {
   "cell_type": "markdown",
   "id": "ee2ab5d7-3c94-438b-a6dd-4be46385bddb",
   "metadata": {},
   "source": [
    "## Modelling with Random Forest to see a better R2 score can be acchieved."
   ]
  },
  {
   "cell_type": "code",
   "execution_count": 5,
   "id": "8cabe60f-7c81-4e4e-a6c6-67d6fbec6104",
   "metadata": {},
   "outputs": [
    {
     "name": "stdout",
     "output_type": "stream",
     "text": [
      "Best hyperparameters: {'rf_reg__max_depth': 3, 'rf_reg__min_samples_leaf': 4, 'rf_reg__n_estimators': 100}\n",
      "The RMSE (testing data) for the Random Forest Model is: 309866.742\n",
      "The R2 score for the Random Forest Model is: 0.059\n"
     ]
    }
   ],
   "source": [
    "# Features and target variable\n",
    "X = data[pollutants]\n",
    "y = data['Bee Colonies']\n",
    "\n",
    "# Train-test split\n",
    "X_train, X_test, y_train, y_test = train_test_split(X, y, test_size=0.2, random_state=42)\n",
    "\n",
    "# Building my pipeline\n",
    "pipe = Pipeline([\n",
    "    ('sc', StandardScaler()),\n",
    "    ('rf_reg', RandomForestRegressor(random_state = 42))\n",
    "])\n",
    "\n",
    "# Defining my Hyperparameters for a GridSearch\n",
    "params = {\n",
    "    'rf_reg__n_estimators': range(100, 251, 50),\n",
    "    'rf_reg__max_depth': [None, 1, 2, 3],\n",
    "    'rf_reg__min_samples_leaf': range(2, 5)\n",
    "}\n",
    "\n",
    "# Gridsearching\n",
    "gs = GridSearchCV(pipe, params, cv = 5, n_jobs= -1)\n",
    "gs.fit(X_train, y_train)\n",
    "\n",
    "# Best Model\n",
    "best_model = gs.best_estimator_\n",
    "\n",
    "# Evaluating the best model\n",
    "preds = best_model.predict(X_test)\n",
    "\n",
    "# What are the best hyperparameters?\n",
    "print('Best hyperparameters:',  gs.best_params_)\n",
    "\n",
    "# Scoring the model\n",
    "r2 = r2_score(y_test, preds)\n",
    "print(f'The RMSE (testing data) for the Random Forest Model is: {round(mean_squared_error(y_test, preds, squared = False), 3)}')\n",
    "print(f'The R2 score for the Random Forest Model is: {round(r2, 3)}')"
   ]
  },
  {
   "cell_type": "markdown",
   "id": "0615e161-3fc5-44e6-856c-95e310645278",
   "metadata": {},
   "source": [
    "---\n",
    "The R-squared score for this Random Forest Model is 0.059, while this is in fact better than the previous R-Squared score of 0.017, it still tells us that our model is not able to make good predictions. "
   ]
  }
 ],
 "metadata": {
  "kernelspec": {
   "display_name": "Python 3 (ipykernel)",
   "language": "python",
   "name": "python3"
  },
  "language_info": {
   "codemirror_mode": {
    "name": "ipython",
    "version": 3
   },
   "file_extension": ".py",
   "mimetype": "text/x-python",
   "name": "python",
   "nbconvert_exporter": "python",
   "pygments_lexer": "ipython3",
   "version": "3.11.7"
  }
 },
 "nbformat": 4,
 "nbformat_minor": 5
}
