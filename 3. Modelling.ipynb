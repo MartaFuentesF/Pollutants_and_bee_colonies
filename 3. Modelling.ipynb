{
 "cells": [
  {
   "cell_type": "markdown",
   "id": "ee0aec50-8c55-4342-be6d-45de480eb8ce",
   "metadata": {},
   "source": [
    "# Modelling with Multiple Linear Regression\n",
    "\n",
    "In this final notebook we look to answer 2 key questions set out in our problem statement - \n",
    "1. What is the extent of impact that each pollutant gas has on bee colony numbers?\n",
    "2. Which pollutant gases should be prioritised for removal in order to maximise bee colony numbers?\n",
    "\n",
    "We answer these two questions inferentially through the coefficients derived from a multiple linear regression model, and, measure the performance of our model through metrics 'root mean squared error' (measuring the average difference between values predicted by our model and the actual values) and R-squared score (telling us the proportion of the changes in our target variable bee colony numbers that can be accounted for by our model). \n",
    "\n",
    "---"
   ]
  },
  {
   "cell_type": "markdown",
   "id": "d64d56fb-5c45-4137-8c1f-2c83bb62164a",
   "metadata": {},
   "source": [
    "# Imports "
   ]
  },
  {
   "cell_type": "code",
   "execution_count": 48,
   "id": "50b94422-96bf-4e81-b7ed-5b21885f8437",
   "metadata": {},
   "outputs": [],
   "source": [
    "import pandas as pd \n",
    "import numpy as np\n",
    "import matplotlib.pyplot as plt\n",
    "import seaborn as sns\n",
    "from sklearn.linear_model import LinearRegression\n",
    "from sklearn.model_selection import train_test_split\n",
    "from sklearn.metrics import root_mean_squared_error, r2_score"
   ]
  },
  {
   "cell_type": "code",
   "execution_count": 51,
   "id": "f514c070-e64e-4fa0-b1e6-ae525baaa054",
   "metadata": {},
   "outputs": [],
   "source": [
    "data = pd.read_csv('./data/modelling_dataframe.csv')\n",
    "\n",
    "# Defining pollutants\n",
    "pollutants = ['Days CO', 'Days NO2', 'Days Ozone', 'Days PM2.5', 'Days PM10']"
   ]
  },
  {
   "cell_type": "code",
   "execution_count": 53,
   "id": "b3c12215-4076-460b-8655-ddc4cc4972b5",
   "metadata": {},
   "outputs": [
    {
     "name": "stdout",
     "output_type": "stream",
     "text": [
      "Root Mean Squared Error: 316651.77884869935\n",
      "R-squared: 0.01718034841386784\n",
      "Pollutants impact on Bee Colonies (sorted by impact):\n",
      "    Pollutant  Coefficient\n",
      "3  Days PM2.5   415.753639\n",
      "2  Days Ozone   355.479014\n",
      "4   Days PM10   249.542403\n",
      "1    Days NO2    59.869507\n",
      "0     Days CO    19.553487\n",
      "Based on the model, the pollutants affecting bee colony poplutions the most (in order of impact)are:\n",
      "['Days PM2.5' 'Days Ozone' 'Days PM10']\n"
     ]
    }
   ],
   "source": [
    "# Features and target variable\n",
    "X = data[pollutants]\n",
    "y = data['Bee Colonies']\n",
    "\n",
    "# Train-test split\n",
    "X_train, X_test, y_train, y_test = train_test_split(X, y, test_size=0.2, random_state=42)\n",
    "\n",
    "# Linear regression model\n",
    "model = LinearRegression()\n",
    "model.fit(X_train, y_train)\n",
    "\n",
    "# Predictions\n",
    "y_pred = model.predict(X_test)\n",
    "\n",
    "# Model evaluation\n",
    "rmse = root_mean_squared_error(y_test, y_pred)\n",
    "r2 = r2_score(y_test, y_pred)\n",
    "print(f'Root Mean Squared Error: {rmse}')\n",
    "print(f'R-squared: {r2}')\n",
    "\n",
    "# Making inferences from the coefficients\n",
    "coefficients = coefficients.sort_values(by='Coefficient', ascending=False)\n",
    "print(\"Pollutants impact on Bee Colonies (sorted by impact):\")\n",
    "print(coefficients)\n",
    "\n",
    "# Making inferences from the coefficients\n",
    "print(\"Based on the model, the pollutants affecting bee colony poplutions the most (in order of impact)are:\")\n",
    "print(coefficients['Pollutant'].iloc[:3].values)"
   ]
  },
  {
   "cell_type": "markdown",
   "id": "e64b09ea-31ab-44c5-b3e0-296a1f217892",
   "metadata": {},
   "source": [
    "---\n",
    "Whilst the R-squared score is extremely low (our model explaining only 0.17% of the changes in bee populations), we must take into account that this project only investigates Air Quality as a factor contributing towards bee populations, [disregarding other larger factors that may affect bee populations to a bigger extent](https://www.europarl.europa.eu/topics/en/article/20191129STO67758/what-s-behind-the-decline-in-bees-and-other-pollinators-infographic). This model also works off of aggregate measures for the entire US accross the period of time for which we have recorded data and so we focus on making inferences from the coefficients above all else in order to address our problem statement. \n",
    "\n",
    "Based on the model, the pollutants affecting bee colony poplutions the most (in order of impact)are 'Days PM2.5', 'Days Ozone', 'Days PM10'."
   ]
  },
  {
   "cell_type": "code",
   "execution_count": null,
   "id": "b50f089a-6f89-4aa3-8bd2-a021975ebf23",
   "metadata": {},
   "outputs": [],
   "source": []
  }
 ],
 "metadata": {
  "kernelspec": {
   "display_name": "Python 3 (ipykernel)",
   "language": "python",
   "name": "python3"
  },
  "language_info": {
   "codemirror_mode": {
    "name": "ipython",
    "version": 3
   },
   "file_extension": ".py",
   "mimetype": "text/x-python",
   "name": "python",
   "nbconvert_exporter": "python",
   "pygments_lexer": "ipython3",
   "version": "3.12.0"
  }
 },
 "nbformat": 4,
 "nbformat_minor": 5
}
