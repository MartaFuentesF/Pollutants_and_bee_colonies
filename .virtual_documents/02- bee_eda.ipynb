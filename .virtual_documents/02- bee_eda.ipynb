


# Imports
import pandas as pd
import matplotlib.pyplot as plt
import seaborn as sns
import numpy as np

from statsmodels.tsa.seasonal import seasonal_decompose
from statsmodels.graphics.tsaplots import plot_acf, plot_pacf






df_bip = pd.read_csv('./Data_Bees/processed_dfs/bip_colony_loss_processed.csv')
df_bip.drop(columns = ['Unnamed: 0'], inplace = True)
df_bip.head()

#data = pd.read_csv('./data/train.csv', index_col = 'Date', parse_dates = True)


pd.to_datetime(df_bip['year'])


df_bip.columns


df_bip.info()





df_bip.describe()


sns.histplot(data = df_bip[['Total Winter All Loss']])#, 'Beekeepers', 'Colonies']])


sns.histplot(data = df_bip[['Beekeepers']])


sns.histplot(data = df_bip[['Colonies']])


sns.boxplot(data = df_bip[['Total Winter All Loss']])


sns.boxplot(data = df_bip[['Beekeepers']])


sns.boxplot(data = df_bip[['Colonies']])


corr_matrix = df_bip[['Total Winter All Loss', 'Beekeepers', 'Colonies']].corr()

sns.heatmap(corr_matrix, annot = True, cmap = 'bone', vmax = 1, vmin = -1)
plt.title('Correlation Matrix')








seasonal_decompose(df_bip['Total Winter All Loss'], period = 1).plot();
# defaults to additive model


seasonal_decompose(df_bip['Colonies'], period = 1).plot();
# defaults to additive model


seasonal_decompose(df_bip['Beekeepers'], period = 1).plot();
# defaults to additive model


sns.lineplot(data = df_bip, x = 'year', y = 'Total Winter All Loss');







# Autocorrelation and partial autocorrelations plots
plot_acf(df_bip['Total Winter All Loss']);
plot_pacf(df_bip['Total Winter All Loss']);


# time series forecasting?
