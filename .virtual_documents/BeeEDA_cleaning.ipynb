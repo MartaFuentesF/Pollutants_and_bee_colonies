


# imports
import pandas as pd






import numpy as np
import pandas as pd





def process_data(file): # year data is in the format 2007-08
    
    file = str(file) 
    dfs = [] #store each data frame, for concatenation

    file_for_import = f'../Project_4/Data_Bees/{file}.xlsx'
    sheet_names = pd.ExcelFile(file_for_import).sheet_names #see citation
    
    for sheet_name in sheet_names:
        df = pd.read_excel(file_for_import, sheet_name = sheet_name)
        df['year'] = str(sheet_name[0:4]) #make a column for the year
        dfs.append(df) #append df to the list for concatenation

    #concatenate
    df_combo = pd.concat(dfs, ignore_index = True)

    return df_combo



colony_loss_df = process_data('BIP Bee Colony Loss Clean')
colony_loss_df.head(2)


colony_loss_df.to_csv('../Data_Bees/processed_dfs/')



