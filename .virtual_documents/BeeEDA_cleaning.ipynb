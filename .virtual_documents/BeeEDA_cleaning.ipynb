


# imports
import pandas as pd
import os
import pandas as pd








# Creating the function
def process_data(file): # year data is in the format 2007-08
    
    file = str(file) 
    dfs = [] #store each data frame, for concatenation

    file_for_import = f'../Project_4/Data_Bees/{file}.xlsx'
    sheet_names = pd.ExcelFile(file_for_import).sheet_names #see citation
    
    for sheet_name in sheet_names:
        df = pd.read_excel(file_for_import, sheet_name = sheet_name)
        df['year'] = str(sheet_name[0:4]) #make a column for the year
        dfs.append(df) #append df to the list for concatenation

    #concatenate
    df_combo = pd.concat(dfs, ignore_index = True)

    return df_combo

# saving the output df as a variable
colony_loss_df = process_data('BIP Bee Colony Loss Clean')

# Saving as .csv in DataFolder, creating directory using os library
directory = '../Project_4/Data_Bees/processed_dfs/'
os.makedirs(directory, exist_ok = True)
colony_loss_df.to_csv(directory + 'bip_colony_loss_processed')



