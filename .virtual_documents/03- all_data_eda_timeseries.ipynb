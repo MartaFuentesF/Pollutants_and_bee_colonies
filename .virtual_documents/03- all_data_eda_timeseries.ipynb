import pandas as pd



df1= pd.read_csv('./Data_Bees/processed_dfs/state_survey_processed.csv', index_col = None)
df1.drop(columns = ['Unnamed: 0'], inplace = True)
df1.head()


df2 = pd.read_csv('./data/air_quality_master.csv')
df2.drop(columns = ['Unnamed: 0'], inplace = True)
df2.head()


df2.columns


df2.info()


# Got help from Emily Rogalski. I needed to include 'numeric_only' for the .mean() to work

# Group by 'State' and 'Year' and calculate the mean for each numeric column
df2 = df2.groupby(['State', 'Year']).mean(numeric_only = True).reset_index()

# Merging df1 and df2
df = pd.merge(df1, df2, on=['Year', 'State']) 

# Renaming 'Value' to a more informative name
df.rename(columns = {'Value': 'bee_colonies'})



