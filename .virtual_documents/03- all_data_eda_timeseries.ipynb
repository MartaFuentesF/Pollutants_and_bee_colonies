





# Imports
import pandas as pd
import matplotlib.pyplot as plt
import seaborn as sns
import numpy as np

from statsmodels.tsa.seasonal import seasonal_decompose
from statsmodels.graphics.tsaplots import plot_acf, plot_pacf





# Data frame for bee colonies
df1= pd.read_csv('./Data_Bees/processed_dfs/state_survey_processed.csv', index_col = None)
df1.drop(columns = ['Unnamed: 0'], inplace = True)
df1.head(2)


# Data frame for air quality
df2 = pd.read_csv('./data/air_quality_master.csv')
df2.drop(columns = ['Unnamed: 0'], inplace = True)
df2.head(2)





# bee data frame statistics
df1.describe()


# airquality data frame statistics
df2.describe()





# basic information for bees data frame
print(df1.info())
print('='*40)
# basic information for airquality data frame
print(df2.info())





# Got help from Emily Rogalski. 
# Solution: I needed to include 'numeric_only' in .mean() 

# Group by 'State' and 'Year' and calculate the mean for each numeric column
df2 = df2.groupby(['State', 'Year']).mean(numeric_only = True).reset_index()

# Merging df1 and df2
df = pd.merge(df1, df2, on=['Year', 'State']) 

# Renaming 'Value' to a more informative name
df.rename(columns = {'Value': 'Bee Colonies'})
df['State'] = df['State'].str.capitalize()
df.head(2)





df.describe()





df.info()





# df.index = pd.to_datetime(df.index.strftime('%Y')) didn't work

# Make 'Year' the index column
# df.index = pd.to_datetime(df['Year'], format='%Y').strftime('%Y')

df['Year'] = pd.to_datetime(df['Year'], format = '%Y')
df.set_index('Year', inplace = True)
df.index = df.index.strftime('%Y')
# Renaming 'Value' to a more informative name
df.rename(columns = {'Value': 'Bee Colonies'}, inplace = True)


df.head()


# filtering df to show only CO, NO2, Ozone

df_gases = df[['Days CO', 'Days NO2', 'Days Ozone', 'State', 'Good Days', 'Unhealthy Days', 'Days PM10', 'Days PM2.5', 'Bee Colonies']]


df_gases.head()


pollutants = ['Days CO', 'Days NO2', 'Days Ozone', 'Days PM2.5', 'Days PM10']
for pollutant in pollutants:
    plt.figure(figsize=(10, 5))
    sns.scatterplot( x = df_gases[pollutant], y=df_gases['Bee Colonies'])
    plt.title(f'Bee Colonies vs {pollutant}')
    plt.xlabel(pollutant)
    plt.ylabel('Bee Colonies')
    plt.xlim(0, 365)
# there tend to be higher number of bee colonies for states that have lower numbers of 'days CO'


df_gases.head()



