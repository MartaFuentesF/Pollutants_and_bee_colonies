


# imports
import pandas as pd









loss_07.head()


loss_07.describe()


loss_07.isnull().sum()





import numpy as np
import pandas as pd
import os as os


# 1. creating an output folder using os.mkdir()
# 2. Create a variable called 'files_BIP_Bee_Colony_loss'
os.mkdir('output')

files_BIP_Bee_Colony_loss = os.listdir('../Project_4/Data_Bees/')



