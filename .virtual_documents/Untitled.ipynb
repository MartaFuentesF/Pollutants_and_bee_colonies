


# Imports
import pandas as pd


df_bip = pd.read_csv('./Data_Bees/processed_dfs/bip_colony_loss_processed.csv')
df_bip.drop(columns = ['Unnamed: 0'])
df_bip.head()




