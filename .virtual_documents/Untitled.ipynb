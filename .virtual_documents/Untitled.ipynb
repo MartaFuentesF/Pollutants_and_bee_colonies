import pandas as pd



df1= pd.read_csv('./Data_Bees/processed_dfs/state_survey_processed.csv', index_col = None)

df1.head()


df2 = pd.read_csv('./data/air_quality_master.csv')
df2.drop(columns = ['Unnamed: 0'], inplace = True)
df2.head()


df2.columns


df2.info()


non_numeric_columns = df2.select_dtypes(include=['object']).columns

# Display unique values in non-numeric columns
for col in non_numeric_columns:
    print(col, df2[col].unique())



numeric_cols = df2.select_dtypes(include='number')

# Group by 'State' and 'Year' and calculate the mean for each numeric column
averaged_df2 = numeric_cols.groupby(['State', 'Year']).mean().reset_index()

# Displaying the result
print(averaged_df2)



