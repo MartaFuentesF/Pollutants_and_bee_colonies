{
 "cells": [
  {
   "cell_type": "markdown",
   "id": "be7a87a4-557c-459c-85d7-53a492edd815",
   "metadata": {},
   "source": [
    "# Importing and Processing Bee Data into Pandas DataFrames and CSV Files\n",
    "\n",
    "Bee-related data is sourced from The United States Department of Agriculture, National Agricultural Statistics Service. Accessed through [data world]('https://data.world/finley/bee-colony-statistical-data-from-1987-2017').\n",
    "The data is imported and aggregated using the 'Period' column, to result in a Value column for the number of bee colonies, for each calendar year, from 1987 to 2017. \n",
    "\n",
    "Columns removed include:\n",
    "\n",
    "- Week Ending: all data in this column is NaN\n",
    "- State ANSI: a numeric code to identify states\n",
    "- Watershed: all data in this column is NaN\n",
    "- Data Item: Descriptor of the origin of the value\n",
    "- CV (%)\n",
    "\n",
    "The resulting data frame has 3 columns: Year, State, and Value (number of bee colonies).\n",
    "The cleaned data is stored as 'state_survey_processed.csv'\n",
    "\n",
    "---\n",
    "*citations:* [aggregating columns]('https://stackoverflow.com/questions/49783178/keep-other-columns-when-using-sum-with-groupby')"
   ]
  },
  {
   "cell_type": "code",
   "execution_count": 1,
   "id": "bce75371-8bce-4cb1-9dc7-535833a6a1b4",
   "metadata": {},
   "outputs": [],
   "source": [
    "# imports\n",
    "import pandas as pd\n",
    "import os"
   ]
  },
  {
   "cell_type": "markdown",
   "id": "a3aaa0c9-fa97-46ec-82de-b41fc5c9393b",
   "metadata": {},
   "source": [
    "### Creating a directory using os library to store processed data frames\n",
    "\n",
    "*citation:* [Using `os` to make directories]('https://www.w3schools.com/python/ref_os_makedirs.asp')"
   ]
  },
  {
   "cell_type": "code",
   "execution_count": 2,
   "id": "a114e67f-d53b-421b-96cc-7f3b37c29ff5",
   "metadata": {},
   "outputs": [],
   "source": [
    "directory = '../Project_4/Data_Bees/processed_dfs/'\n",
    "os.makedirs(directory, exist_ok = True)"
   ]
  },
  {
   "cell_type": "markdown",
   "id": "e62908a4-7f40-4983-a395-0cb5d39565d4",
   "metadata": {},
   "source": [
    "---\n",
    "## Importing and Preparing 'Bee Colony Survey Data by State'\n"
   ]
  },
  {
   "cell_type": "code",
   "execution_count": null,
   "id": "b5e9530e-73d5-416b-88fd-01f5b054594f",
   "metadata": {},
   "outputs": [],
   "source": [
    "# reading in csv to a pandas data frame\n",
    "df_3 = pd.read_csv('./Data_Bees/raw_bee_data/Bee Colony Survey Data by State.csv')\n",
    "\n",
    "# dropping columns that won't be used \n",
    "df_3.drop(columns = ['CV (%)', 'Watershed', 'Week Ending', 'State ANSI'], inplace = True)\n",
    "\n",
    "# Editing the 'Value' column from  dtype object to dtype int. \n",
    "# Removing comas from values.\n",
    "df_3['Value'] = df_3['Value'].str.replace(',', '').astype(int)\n",
    "\n",
    "\n",
    "# The periods of months in the 'Period' column are combined into calendar years.\n",
    "# First: deconstruct the 'Period' string, into a start and end date, that can be used by .to_datetime()\n",
    "\n",
    "def convert_period_to_dates(entry):\n",
    "    year = entry['Year'] # --> using entry['column'], will make the function go through the rows\n",
    "    period = entry['Period']\n",
    "\n",
    "    if 'THRU' in period:\n",
    "        start_mo, end_mo = period.split('THRU')\n",
    "        start_date = f'{start_mo} {year}'\n",
    "        end_date = f'{end_mo} {year}'  \n",
    "    else:\n",
    "        start_date = period + f'{year}'\n",
    "        end_date = period + f'{year}'\n",
    "        \n",
    "    return pd.Series([start_date, end_date]) \n",
    "\n",
    "# Next, replace 'Period' with two new columns for start_date and end_date.  \n",
    "# Apply the function to data frame\n",
    "df_3[['date_start', 'date_end']] = df_3.apply(convert_period_to_dates, axis = 1)\n",
    "df_3 = df_3.drop(columns = ['Period'])\n",
    "\n",
    "# Finally, group the DataFrame by 'Year', 'State', and 'Data Item', then sum the 'Value' column\n",
    "df_3 = df_3.groupby(['Year', 'State', 'Data Item'])['Value'].sum().reset_index()\n",
    "\n",
    "# Make states lower case\n",
    "df_3['State'] = df_3['State'].str.lower()\n",
    "\n",
    "\n",
    "# Drop the column 'Data Item'\n",
    "df_3.drop(columns = ['Data Item'], inplace = True)\n",
    "\n",
    "\n",
    "# saving to .csv\n",
    "df_3.to_csv(directory + 'state_survey_processed.csv')"
   ]
  }
 ],
 "metadata": {
  "kernelspec": {
   "display_name": "Python 3 (ipykernel)",
   "language": "python",
   "name": "python3"
  },
  "language_info": {
   "codemirror_mode": {
    "name": "ipython",
    "version": 3
   },
   "file_extension": ".py",
   "mimetype": "text/x-python",
   "name": "python",
   "nbconvert_exporter": "python",
   "pygments_lexer": "ipython3",
   "version": "3.11.7"
  }
 },
 "nbformat": 4,
 "nbformat_minor": 5
}
